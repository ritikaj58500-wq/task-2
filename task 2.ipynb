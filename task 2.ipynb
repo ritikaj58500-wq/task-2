{
 "cells": [
  {
   "cell_type": "code",
   "execution_count": 1,
   "id": "14e47477-6001-4f77-a096-76e5326d7f9e",
   "metadata": {},
   "outputs": [
    {
     "name": "stdin",
     "output_type": "stream",
     "text": [
      "Enter student name:  Ritika Joshi\n",
      "Enter marks separated by space:  74\n"
     ]
    },
    {
     "name": "stdout",
     "output_type": "stream",
     "text": [
      "[{'Name': 'Ritika Joshi', 'Marks': [74], 'Average': 74.0, 'Grade': 'B'}]\n"
     ]
    }
   ],
   "source": [
    "students = []\n",
    "\n",
    "name = input(\"Enter student name: \")\n",
    "marks = [int(x) for x in input(\"Enter marks separated by space: \").split()]\n",
    "avg = sum(marks) / len(marks)\n",
    "\n",
    "if avg >= 90:\n",
    "    grade = \"A+\"\n",
    "    comment = \"Outstanding!\"\n",
    "elif avg >= 75:\n",
    "    grade = \"A\"\n",
    "    comment = \"Excellent work!\"\n",
    "elif avg >= 60:\n",
    "    grade = \"B\"\n",
    "    comment = \"Good job!\"\n",
    "else:\n",
    "    grade = \"C\"\n",
    "    comment = \"Needs improvement.\"\n",
    "\n",
    "students.append({\"Name\": name, \"Marks\": marks, \"Average\": avg, \"Grade\": grade})\n",
    "print(students)"
   ]
  }
 ],
 "metadata": {
  "kernelspec": {
   "display_name": "Python [conda env:base] *",
   "language": "python",
   "name": "conda-base-py"
  },
  "language_info": {
   "codemirror_mode": {
    "name": "ipython",
    "version": 3
   },
   "file_extension": ".py",
   "mimetype": "text/x-python",
   "name": "python",
   "nbconvert_exporter": "python",
   "pygments_lexer": "ipython3",
   "version": "3.12.7"
  }
 },
 "nbformat": 4,
 "nbformat_minor": 5
}
